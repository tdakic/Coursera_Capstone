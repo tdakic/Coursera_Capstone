{
 "cells": [
  {
   "attachments": {},
   "cell_type": "markdown",
   "metadata": {},
   "source": [
    "<h1>Capstone Project - Proposing Locations for a Bubble Tea Store in Vancouver (Week 1)</h1>\n",
    "<h2> Applied Data Science Capstone by IBM/Coursera <h2>\n",
    "\n",
    "\n",
    "<h3> Table of Contents </h3>\n",
    "<ol> \n",
    "    <li> <a href=\"#Intro\"> Introduction/Business Problem </a></li>\n",
    "    <li>  <a href=\"#Data\"> Data </a> </li>\n",
    "</ol>\n",
    "\n",
    "\n",
    "### <div id=\"Intro\">Introduction/Business Problem </div>\n",
    "\n",
    "This project proposes good locations in Vancouver for opening a bubble tea store. It is aimed to provide help to any person wanting to start a business in Vancouver with relatively small initial capital or a chain that wants to open a location in Vancouver.\n",
    "\n",
    "Bubble tea is a drink that can be made using a variety of ingredients such as tea, juice or sweetened flavoured milk usually with sweet black tapioca pearls.\n",
    "\n",
    "<div style=\" font-size:80%; text-align:center;padding-top:1em\"><img src=\"bubble_tea.jpeg\" alt=\"Bubble tea image\"  style=\"padding-bottom:0.5em;\" />Bubble tea (image from https://www.thecoast.ca)</div>\n",
    "\n",
    "Starting a bubble tea store is relatively inexpensive, since it requires less equipment than a traditional coffee shop or restaurant and the profit margins are high because the ingredients, such as tea, are inexpensive. Also, preparing bubble tea is easy, so not much staff training is required.\n",
    "\n",
    "Bubble tea originated in Taiwan in the early 1980s and is gaining popularity around the world. For example, the Taiwnese chain Chatime currently has 2500+ locations around the world (https://en.wikipedia.org/wiki/Chatime) but only 3 in Vancouver.\n",
    "\n",
    "The number of all bubble tea stores in Vancouver is around 60 (results from https://foursquare.com), whereas there are 108 Starbucks in Vancouver as of February 2019 (https://www.statista.com/statistics/306896/cities-with-the-largest-number-of-starbucks-stores-worldwide/) and there are also numerous other coffee shops.\n",
    "\n",
    "Bubble tea is especially popular with tweens and going for bubble tea after school is loved by Vancouver school children.\n",
    "\n",
    "Because of this, to propose a good location for a bubble tea store we look for locations in Vancouver that are close to schools. In particular, we look at schools that have no bubble tea stores within 800m, determine if a school is \"walkable\" and highlight the commercial zones that allow for opening of a bubble tea store near the school. \n",
    "\n",
    "We say that a school is \"walkable\" using a definition of a walk score (a number between 0 and 100) on https://www.walkscore.com/methodology.shtml:\n",
    "\n",
    "_Walk Score measures the walkability of any address using a patented system. For each address, Walk Score analyzes hundreds of walking routes to nearby amenities. Points are awarded based on the distance to amenities in each category. Amenities within a 5 minute walk (.25 miles) are given maximum points. A decay function is used to give points to more distant amenities, with no points given after a 30 minute walk._\n",
    "\n",
    "_Walk Score also measures pedestrian friendliness by analyzing population density and road metrics such as block length and intersection density. Data sources include Google, Education.com, Open Street Map, the U.S. Census, Localeze, and places added by the Walk Score user community._\n",
    "\n",
    "The commercial zones we focus on have high pedestrian traffic, which is also very good for a bubble tea store.\n",
    "\n",
    "\n",
    "### <div id=\"Data\"> Data </div>\n",
    "\n",
    "To recommend good locations for a bubble tea stores as outlined in the introduction we need the following data:\n",
    "\n",
    "* __The number and locations of all bubble tea stores in Vancouver,__<br>\n",
    "These are obtained from https://foursquare.com/ I will extract the names and the latitude and longitude of the stores.\n",
    "    \n",
    "    \n",
    "* __The locations of all elementary and high schools in Vancouver,__<br>\n",
    "These are obtained from https://data.vancouver.ca/datacatalogue/schools.htm which has a more comprehensive list than https://foursquare.com/ \n",
    "The file includes the names, addresses and longitude and latitude of the schools. This is important for both data processing and visulaization.   \n",
    "    \n",
    "    \n",
    "* __The locations of all commercial zones.__<br>\n",
    "These are obtained from https://data.vancouver.ca/datacatalogue/zoning.htm\n",
    "I will use the .kml file to extract the polygons that choropleth maps need, so I can then visualize the zones on a map.    \n",
    "\n"
   ]
  },
  {
   "cell_type": "code",
   "execution_count": null,
   "metadata": {},
   "outputs": [],
   "source": []
  }
 ],
 "metadata": {
  "kernelspec": {
   "display_name": "Python 3",
   "language": "python",
   "name": "python3"
  },
  "language_info": {
   "codemirror_mode": {
    "name": "ipython",
    "version": 3
   },
   "file_extension": ".py",
   "mimetype": "text/x-python",
   "name": "python",
   "nbconvert_exporter": "python",
   "pygments_lexer": "ipython3",
   "version": "3.7.0"
  }
 },
 "nbformat": 4,
 "nbformat_minor": 2
}
